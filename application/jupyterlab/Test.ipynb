{
 "cells": [
  {
   "cell_type": "code",
   "execution_count": 1,
   "id": "4fde74a8-9683-4931-9101-bd948d6cdd1a",
   "metadata": {},
   "outputs": [],
   "source": [
    "import pandas as pd\n",
    "import s3fs\n",
    "import fsspec\n",
    "import os\n",
    "\n",
    "from datetime import datetime\n",
    "from zoneinfo import ZoneInfo\n",
    "\n",
    "MINIO_URL = os.environ['min_io_url']\n",
    "MINIO_USER = os.environ['min_io_admin']\n",
    "MINIO_KEY = os.environ['min_io_pwd']\n",
    "\n",
    "fsspec.config.conf = {\n",
    "  \"s3\":\n",
    "  {\n",
    "    \"key\": MINIO_USER,\n",
    "    \"secret\": MINIO_KEY,\n",
    "    \"client_kwargs\": {\n",
    "      \"endpoint_url\": os.getenv(\"S3_ENDPOINT\", MINIO_URL)\n",
    "    }\n",
    "  }\n",
    "}\n",
    "\n",
    "today = datetime.now(ZoneInfo(\"Asia/Ho_Chi_Minh\"))\n",
    "year_month_id = today.strftime(\"%Y%m\")\n",
    "date_id = today.strftime(\"%Y%m%d\")\n",
    "timestamp_id = today.strftime(\"%H%M%S\")\n",
    "\n",
    "bucket = 'dwhfilesystem'\n",
    "folder_path = 'raw_area/vn_finance_project/vn_stock_balance_sheet'\n",
    "landing_path = 's3://dwhfilesystem/raw_area/vn_finance_project/vn_stock_balance_sheet/202312/20231202/234449.csv'\n",
    "df = pd.read_csv(landing_path)"
   ]
  }
 ],
 "metadata": {
  "kernelspec": {
   "display_name": "Python 3 (ipykernel)",
   "language": "python",
   "name": "python3"
  },
  "language_info": {
   "codemirror_mode": {
    "name": "ipython",
    "version": 3
   },
   "file_extension": ".py",
   "mimetype": "text/x-python",
   "name": "python",
   "nbconvert_exporter": "python",
   "pygments_lexer": "ipython3",
   "version": "3.10.13"
  }
 },
 "nbformat": 4,
 "nbformat_minor": 5
}
